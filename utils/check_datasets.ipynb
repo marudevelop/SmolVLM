{
 "cells": [
  {
   "cell_type": "code",
   "execution_count": 1,
   "id": "f9b20017",
   "metadata": {},
   "outputs": [
    {
     "name": "stderr",
     "output_type": "stream",
     "text": [
      "c:\\Users\\USER\\miniconda3\\envs\\smolvlm\\lib\\site-packages\\tqdm\\auto.py:21: TqdmWarning: IProgress not found. Please update jupyter and ipywidgets. See https://ipywidgets.readthedocs.io/en/stable/user_install.html\n",
      "  from .autonotebook import tqdm as notebook_tqdm\n"
     ]
    }
   ],
   "source": [
    "from datasets import load_dataset\n",
    "dataset = load_dataset(\"derek-thomas/ScienceQA\")"
   ]
  },
  {
   "cell_type": "code",
   "execution_count": 2,
   "id": "9340f67e",
   "metadata": {},
   "outputs": [
    {
     "data": {
      "text/plain": [
       "DatasetDict({\n",
       "    train: Dataset({\n",
       "        features: ['image', 'question', 'choices', 'answer', 'hint', 'task', 'grade', 'subject', 'topic', 'category', 'skill', 'lecture', 'solution'],\n",
       "        num_rows: 12726\n",
       "    })\n",
       "    validation: Dataset({\n",
       "        features: ['image', 'question', 'choices', 'answer', 'hint', 'task', 'grade', 'subject', 'topic', 'category', 'skill', 'lecture', 'solution'],\n",
       "        num_rows: 4241\n",
       "    })\n",
       "    test: Dataset({\n",
       "        features: ['image', 'question', 'choices', 'answer', 'hint', 'task', 'grade', 'subject', 'topic', 'category', 'skill', 'lecture', 'solution'],\n",
       "        num_rows: 4241\n",
       "    })\n",
       "})"
      ]
     },
     "execution_count": 2,
     "metadata": {},
     "output_type": "execute_result"
    }
   ],
   "source": [
    "dataset"
   ]
  },
  {
   "cell_type": "code",
   "execution_count": 3,
   "id": "d881123c",
   "metadata": {},
   "outputs": [
    {
     "data": {
      "text/plain": [
       "{'image': <PIL.PngImagePlugin.PngImageFile image mode=RGB size=202x202>,\n",
       " 'question': \"Which animal's mouth is also adapted for bottom feeding?\",\n",
       " 'choices': ['discus', 'armored catfish'],\n",
       " 'answer': 1,\n",
       " 'hint': \"Sturgeons eat invertebrates, plants, and small fish. They are bottom feeders. Bottom feeders find their food at the bottom of rivers, lakes, and the ocean.\\nThe 's mouth is located on the underside of its head and points downward. Its mouth is adapted for bottom feeding.\\nFigure: sturgeon.\",\n",
       " 'task': 'closed choice',\n",
       " 'grade': 'grade3',\n",
       " 'subject': 'natural science',\n",
       " 'topic': 'biology',\n",
       " 'category': 'Adaptations',\n",
       " 'skill': 'Animal adaptations: beaks, mouths, and necks',\n",
       " 'lecture': \"An adaptation is an inherited trait that helps an organism survive or reproduce. Adaptations can include both body parts and behaviors.\\nThe shape of an animal's mouth is one example of an adaptation. Animals' mouths can be adapted in different ways. For example, a large mouth with sharp teeth might help an animal tear through meat. A long, thin mouth might help an animal catch insects that live in holes. Animals that eat similar food often have similar mouths.\",\n",
       " 'solution': \"Look at the picture of the sturgeon.\\nThe sturgeon's mouth is located on the underside of its head and points downward. Its mouth is adapted for bottom feeding. The sturgeon uses its mouth to find food hidden in the sediment at the bottom of rivers, lakes, and the ocean.\\nNow look at each animal. Figure out which animal has a similar adaptation.\\nThe armored catfish's mouth is located on the underside of its head and points downward. Its mouth is adapted for bottom feeding.\\nThe discus's mouth is not located on the underside of its head. Its mouth is not adapted for bottom feeding.\"}"
      ]
     },
     "execution_count": 3,
     "metadata": {},
     "output_type": "execute_result"
    }
   ],
   "source": [
    "dataset[\"validation\"][1]"
   ]
  },
  {
   "cell_type": "code",
   "execution_count": null,
   "id": "e3228fac",
   "metadata": {},
   "outputs": [],
   "source": []
  }
 ],
 "metadata": {
  "kernelspec": {
   "display_name": "smolvlm",
   "language": "python",
   "name": "python3"
  },
  "language_info": {
   "codemirror_mode": {
    "name": "ipython",
    "version": 3
   },
   "file_extension": ".py",
   "mimetype": "text/x-python",
   "name": "python",
   "nbconvert_exporter": "python",
   "pygments_lexer": "ipython3",
   "version": "3.10.16"
  }
 },
 "nbformat": 4,
 "nbformat_minor": 5
}
